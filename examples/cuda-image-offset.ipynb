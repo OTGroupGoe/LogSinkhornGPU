{
 "cells": [
  {
   "cell_type": "code",
   "execution_count": 2,
   "id": "485860ee",
   "metadata": {},
   "outputs": [
    {
     "name": "stdout",
     "output_type": "stream",
     "text": [
      "The autoreload extension is already loaded. To reload it, use:\n",
      "  %reload_ext autoreload\n"
     ]
    }
   ],
   "source": [
    "import torch\n",
    "from LogSinkhornGPU import *\n",
    "import matplotlib.pyplot as plt\n",
    "plt.rc(\"font\", size = 12)"
   ]
  },
  {
   "cell_type": "markdown",
   "id": "711d5d7d",
   "metadata": {},
   "source": [
    "We can use the nice structure of the square cost to obtain some efficient parallel solver even when the point clouds of the different problems are displaced with respect each other. Assume we have an efficient routine for computing the formula\n",
    "\t\n",
    "$$ \n",
    "\\log \\sum_j \\exp\\left( h_j - \\frac{|x_i - x_j|^2}{\\varepsilon}\\right)\n",
    "$$\n",
    "for some point clouds $(x_i)_i$ and $(y_j)_j$. Then, for some translated coordinates $x_i' = x_i + \\hat{x}$, $y_j' = y_j + \\hat{y}$ one can do: \n",
    "\t\\begin{align*}\n",
    "    \\log \\sum_j &\\exp\\left( h_j - \\frac{|x_i' - y_j'|^2}{\\varepsilon}\\right)\n",
    "\t\t=\n",
    "\t\t\\log \\sum_j \\exp\\left( h_j - \\frac{|x_i - y_j|^2\n",
    "\t\t+\n",
    "\t\t2\\langle x_i - y_j, \\hat{x} - \\hat{y} \\rangle\n",
    "\t\t+\n",
    "\t\t|\\hat{x}-\\hat{y}|^2\n",
    "\t}{\\varepsilon}\\right)\n",
    "\\\\\n",
    "&=\n",
    "\\frac{2\\langle x_i, \\hat{y}- \\hat{x} \\rangle\n",
    "\t+\n",
    "\t|\\hat{x}-\\hat{y}|^2}{\\varepsilon}\n",
    "+\n",
    "\\log \\sum_j \\exp\\left( \\left[h_j + \\frac{2 \\langle y_j, \\hat{x}-\\hat{y} \\rangle}{\\varepsilon}\\right] - \\frac{|x_i - y_j|^2}{\\varepsilon}\\right)\n",
    "\\\\\n",
    "&=\n",
    "\\frac{2\\langle x'_i-\\hat{x}, \\hat{y}- \\hat{x} \\rangle\n",
    "\t+\n",
    "\t|\\hat{x}-\\hat{y}|^2}{\\varepsilon}\n",
    "+\n",
    "\\log \\sum_j \\exp\\left( \\left[h_j + \\frac{2 \\langle y_j'-\\hat{y}, \\hat{x}-\\hat{y} \\rangle}{\\varepsilon}\\right] - \\frac{|x_i - y_j|^2}{\\varepsilon}\\right)`\n",
    "\\end{align*}\n",
    "\t\n",
    "    \n",
    "So we just need to add an offset to the input and another to the output. Since these offsets can be precomputed, we can perform this operation very efficiently. "
   ]
  },
  {
   "cell_type": "code",
   "execution_count": 51,
   "id": "5ddaaaca",
   "metadata": {},
   "outputs": [
    {
     "data": {
      "text/plain": [
       "80"
      ]
     },
     "execution_count": 51,
     "metadata": {},
     "output_type": "execute_result"
    }
   ],
   "source": [
    "B = 16\n",
    "n = 32\n",
    "\n",
    "# Initialize some measures\n",
    "eps = 0.1\n",
    "mu = torch.rand(B, n, n, device = \"cuda\") + 1\n",
    "nu = torch.rand(B, n, n, device = \"cuda\") + 1\n",
    "mu = mu/torch.sum(mu, dim = (1,2), keepdim = True)\n",
    "nu = nu/torch.sum(nu, dim = (1,2), keepdim = True)\n",
    "x = torch.linspace(0, 1, n, device = \"cuda\").view(1, -1)\n",
    "# Add some random offsets, different for every problem\n",
    "x1 = x + torch.rand((B, 1), device = \"cuda\")\n",
    "x2 = x + torch.rand((B, 1), device = \"cuda\")\n",
    "y1 = x + torch.rand((B, 1), device = \"cuda\")\n",
    "y2 = x + torch.rand((B, 1), device = \"cuda\")\n",
    "\n",
    "xs, ys = (x1, x2), (y1, y2)\n",
    "\n",
    "# Solve first with torch solver for comparison\n",
    "C1 = (x1.view(B, -1, 1) - y1.view(B, 1, -1))**2\n",
    "C2 = (x2.view(B, -1, 1) - y2.view(B, 1, -1))**2\n",
    "# Torch\n",
    "solver_torch = LogSinkhornTorchImage(mu, nu, (C1, C2), eps)\n",
    "solver_torch.iterate_until_max_error()\n",
    "a_torch = solver_torch.alpha\n",
    "solver_torch.Niter"
   ]
  },
  {
   "cell_type": "code",
   "execution_count": 52,
   "id": "65df32d6",
   "metadata": {},
   "outputs": [
    {
     "data": {
      "text/plain": [
       "<matplotlib.image.AxesImage at 0x2aab5687cb80>"
      ]
     },
     "execution_count": 52,
     "metadata": {},
     "output_type": "execute_result"
    },
    {
     "data": {
      "image/png": "[encoded data removed]",
      "text/plain": [
       "<Figure size 432x288 with 1 Axes>"
      ]
     },
     "metadata": {
      "needs_background": "light"
     },
     "output_type": "display_data"
    }
   ],
   "source": [
    "plt.imshow((a_torch).cpu().reshape(B*n, n).T)"
   ]
  },
  {
   "cell_type": "code",
   "execution_count": 53,
   "id": "59214fa7",
   "metadata": {},
   "outputs": [],
   "source": [
    "# Make solver based on LogSinkhornCudaImage:\n",
    "class LogSinkhornCudaImageOffset(AbstractSinkhorn):\n",
    "    \"\"\"\n",
    "    Online Sinkhorn solver for standard OT on images with separable cost, custom CUDA implementation. \n",
    "    Each Sinkhorn iteration has complexity N^(3/2), instead of the usual N^2. \n",
    "\n",
    "    Attributes\n",
    "    ----------\n",
    "    mu : torch.Tensor of size (B, M1, M2)\n",
    "        First marginals\n",
    "    nu : torch.Tensor of size (B, N1, N2)\n",
    "        Second marginals \n",
    "    C  : tuple of the form ((x1, x2), (y1, y2))\n",
    "        Grid coordinates\n",
    "    eps : float\n",
    "        Regularization strength\n",
    "    muref : torch.Tensor with same dimensions as mu (except axis 0, which can have len = 1)\n",
    "        First reference measure for the Gibbs energy, i.e. K = muref \\otimes nuref exp(-C/eps)\n",
    "    nuref : torch.Tensor with same dimensions as nu (except axis 0, which can have len = 1)\n",
    "        Second reference measure for the Gibbs energy, i.e. K = muref \\otimes nuref exp(-C/eps)\n",
    "    alpha_init : torch.Tensor with same dimensions as mu, or None\n",
    "        Initialization for the first Sinkhorn potential\n",
    "    \"\"\"\n",
    "    def __init__(self, mu, nu, C, eps, **kwargs):\n",
    "        \n",
    "        (xs, ys) = C\n",
    "        zs = xs + ys # Have all coordinates in one tuple\n",
    "        x1 = zs[0]\n",
    "        B = batch_dim(mu)\n",
    "        # Check whether xs have a batch dimension\n",
    "        if len(x1.shape) == 1:\n",
    "            for z in zs:\n",
    "                assert len(z) == 1, \"dimensions of grid coordinates must be consistent\"\n",
    "            C = tuple(tuple(xi.view(1, -1) for xi in X) for X in C)\n",
    "        else: \n",
    "            for z in zs:\n",
    "                assert len(z.shape) == 2, \"coordinates can just have one spatial dimension\"\n",
    "                assert z.shape[0] == B, \"batch dimension of all coordinates must coincide\"\n",
    "        \n",
    "        # Now all coordinates have a batch dimension of either B or 1.\n",
    "        # Check that all coordinates have same grid spacing\n",
    "        dx = x1[0,1]-x1[0,0]\n",
    "        for z in zs:\n",
    "            assert torch.max(torch.abs(torch.diff(z, dim = -1)-dx)) < 1e-6, \"Grid is not equispaced\"\n",
    "            \n",
    "        # Check geometric dimensions\n",
    "        Ms = geom_dims(mu)\n",
    "        Ns = geom_dims(nu)\n",
    "        assert len(Ms) == len(Ns) == 2, \"Shapes incompatible with images\"\n",
    "\n",
    "        # Compute offsets for dual potentials\n",
    "        dim = len(Ms)\n",
    "        # For X: compute X such that X[b,i,j,:] is the coordinates (i,j) of slice b\n",
    "        shapeX = (B, ) + Ms + (dim,)\n",
    "        X = torch.empty(shapeX, device = mu.device)\n",
    "        for i in range(dim):\n",
    "            shapexi = (B,) + (1,)*i + (Ms[i],) + (1,)*(dim-i-1)\n",
    "            X[...,i] = xs[i].view(shapexi)\n",
    "        X0 = X[(slice(None),) + (0,)*dim + (slice(None),)].view((B,) + (1,)*dim + (dim,))\n",
    "\n",
    "        # For Y the same\n",
    "        shapeY = (B, ) + Ns + (dim,)\n",
    "        Y = torch.empty(shapeY, device = nu.device)\n",
    "        for j in range(dim):\n",
    "            shapeyj = (B,) + (1,)*j + (Ns[j],) + (1,)*(dim-j-1)\n",
    "            Y[...,j] = ys[j].view(shapeyj)\n",
    "        Y0 = Y[(slice(None),) + (0,)*dim + (slice(None),)].view((B,) + (1,)*dim + (dim,))\n",
    "        \n",
    "        # Use the formulas above to compute the offset\n",
    "        self.offsetX = torch.sum(2*(X-X0)*(Y0-X0), dim = -1)/eps\n",
    "        self.offsetY = torch.sum(2*(Y-Y0)*(X0-Y0), dim = -1)/eps\n",
    "        self.offset_constant = - torch.sum((X0-Y0)**2, dim = -1)/eps\n",
    "\n",
    "        # Don't need xs or X anymore, just dx\n",
    "        C = (dx, Ms, Ns)\n",
    "\n",
    "        super().__init__(mu, nu, C, eps, **kwargs)\n",
    "\n",
    "    def get_new_alpha(self):\n",
    "        dx, Ms, Ns = self.C\n",
    "        h = self.beta / self.eps + self.lognu + self.offsetY\n",
    "        return - self.eps * (softmin_cuda_image(h, Ms, Ns, self.eps, dx) \n",
    "                + self.offsetX + self.offset_constant + self.logmuref - self.logmu)\n",
    "    \n",
    "    def get_new_beta(self):\n",
    "        dx, Ms, Ns = self.C\n",
    "        h = self.alpha / self.eps + self.logmu + self.offsetX\n",
    "        return - self.eps * (softmin_cuda_image(h, Ns, Ms, self.eps, dx) \n",
    "                + self.offsetY + self.offset_constant + self.lognuref - self.lognu)"
   ]
  },
  {
   "cell_type": "code",
   "execution_count": 55,
   "id": "b9c22c4b",
   "metadata": {},
   "outputs": [
    {
     "data": {
      "text/plain": [
       "80"
      ]
     },
     "execution_count": 55,
     "metadata": {},
     "output_type": "execute_result"
    }
   ],
   "source": [
    "solver_offset = LogSinkhornCudaImageOffset(mu, nu, (xs, ys), eps)\n",
    "\n",
    "solver_offset.iterate_until_max_error()\n",
    "solver_offset.Niter"
   ]
  },
  {
   "cell_type": "code",
   "execution_count": 56,
   "id": "9a5f1896",
   "metadata": {},
   "outputs": [
    {
     "data": {
      "text/plain": [
       "<matplotlib.colorbar.Colorbar at 0x2aab569fde80>"
      ]
     },
     "execution_count": 56,
     "metadata": {},
     "output_type": "execute_result"
    },
    {
     "data": {
      "image/png": "[encoded data removed]",
      "text/plain": [
       "<Figure size 432x288 with 2 Axes>"
      ]
     },
     "metadata": {
      "needs_background": "light"
     },
     "output_type": "display_data"
    }
   ],
   "source": [
    "a_offset = solver_offset.alpha.reshape(B, n, n)\n",
    "plt.imshow((a_offset-a_torch).cpu().reshape(B*n, n).T)\n",
    "plt.colorbar()"
   ]
  },
  {
   "cell_type": "code",
   "execution_count": null,
   "id": "850b526b",
   "metadata": {},
   "outputs": [],
   "source": []
  }
 ],
 "metadata": {
  "kernelspec": {
   "display_name": "Python 3",
   "language": "python",
   "name": "python3"
  },
  "language_info": {
   "codemirror_mode": {
    "name": "ipython",
    "version": 3
   },
   "file_extension": ".py",
   "mimetype": "text/x-python",
   "name": "python",
   "nbconvert_exporter": "python",
   "pygments_lexer": "ipython3",
   "version": "3.8.8"
  }
 },
 "nbformat": 4,
 "nbformat_minor": 5
}
