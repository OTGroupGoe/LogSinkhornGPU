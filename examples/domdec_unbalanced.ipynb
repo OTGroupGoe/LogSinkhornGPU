{
 "cells": [
  {
   "cell_type": "code",
   "execution_count": 1,
   "metadata": {},
   "outputs": [],
   "source": [
    "%load_ext line_profiler"
   ]
  },
  {
   "cell_type": "code",
   "execution_count": 8,
   "metadata": {},
   "outputs": [
    {
     "name": "stdout",
     "output_type": "stream",
     "text": [
      "Overwriting simulation.py\n"
     ]
    }
   ],
   "source": [
    "%%writefile simulation.py\n",
    "\n",
    "import os\n",
    "import sys\n",
    "import time\n",
    "from tqdm.autonotebook import tqdm\n",
    "import torch\n",
    "# sys.path.append('../')\n",
    "from LogSinkhornGPU import *\n",
    "from LogSinkhornGPUBackend import InnerNewtonCUDA\n",
    "import pykeops\n",
    "import numpy as np\n",
    "import matplotlib.pyplot as plt\n",
    "\n",
    "def check():\n",
    "    print(f'which python3:   {sys.executable}')\n",
    "    print(f'LD_LIBRARY_PATH: {os.environ[\"LD_LIBRARY_PATH\"]}\\n')\n",
    "    print(f'torch version:   {torch.__version__}')\n",
    "    print(f'torch file:      {torch.__file__}')\n",
    "    print(f'cuda available:  {torch.cuda.is_available()}')\n",
    "    if torch.cuda.is_available():\n",
    "        for i in range(torch.cuda.device_count()):\n",
    "            print('device name:    ', torch.cuda.get_device_name(i))\n",
    "    print('')\n",
    "\n",
    "\n",
    "class SubdomainUnbalancedSinkhornTorch(AbstractSinkhorn):\n",
    "    '''\n",
    "    Unbalanced Log Sinkhorn on Subdomain (J-Cell) with torch.\n",
    "    '''\n",
    "\n",
    "    def __init__(self, mu, nu, C, eps, **kwargs):\n",
    "        # self.n_pixels = mu.shape[0]\n",
    "        # self.partition = kwargs[\"partition\"]\n",
    "        # self.J = kwargs[\"J\"]\n",
    "        # self.pi = kwargs[\"pi\"]\n",
    "        self.nu_nJ = kwargs[\"nu_nJ\"]\n",
    "        self.lognu_nJ = log_dens(self.nu_nJ)\n",
    "        self.t = kwargs[\"t\"]\n",
    "        self.lam = kwargs[\"lam\"]\n",
    "        self.scale = eps/(1.0 + eps/self.lam)\n",
    "        self.newton_iter = kwargs[\"newton_iter\"]\n",
    "        self.newton_tol = kwargs[\"newton_tol\"]\n",
    "        super().__init__(mu, nu, C, eps, **kwargs)\n",
    "\n",
    "    def get_new_alpha(self):\n",
    "        return -self.scale * (\n",
    "            softmin_torch(\n",
    "                (self.beta[:, None, :] - self.C) / self.eps\n",
    "                + self.lognuref[:, None, :],\n",
    "                dim=2\n",
    "            )\n",
    "            + self.logmuref - self.logmu\n",
    "        )\n",
    "\n",
    "    def get_new_beta(self):\n",
    "        logKTu = softmin_torch(\n",
    "            (self.alpha[:, :, None] - self.C) / self.eps\n",
    "            + self.logmuref[:, :, None] + self.lognuref[:, None, :], dim=1\n",
    "        )\n",
    "        self.t = InnerNewtonCUDA(\n",
    "            self.newton_iter, self.newton_tol, self.t, self.eps, self.lam, \n",
    "            self.lognu, self.lognu_nJ, logKTu\n",
    "        )\n",
    "        return -self.lam*self.t - self.eps*logKTu\n",
    "\n",
    "    def get_pi_dense(self):\n",
    "        return torch.exp(\n",
    "            (self.alpha[:, :, None]+self.beta[:, None, :]-self.C) / self.eps\n",
    "            + self.logmuref[:, :, None] + self.lognuref[:, None, :]\n",
    "        )\n",
    "\n",
    "    def get_current_error(self):\n",
    "        \"\"\"\n",
    "        Get current error for unbalanced Sinkhorn\n",
    "        \"\"\"\n",
    "        new_alpha = self.get_new_alpha()\n",
    "        # Compute current marginal\n",
    "        new_mu = self.mu * torch.exp((self.alpha - new_alpha)/self.scale)\n",
    "        # Update alpha (we get an iteration for free)\n",
    "        self.alpha = new_alpha\n",
    "        # Finish this sinkhorn iter\n",
    "        self.update_beta()\n",
    "        # Return L1 error\n",
    "        return torch.sum(torch.abs(self.mu - new_mu))\n",
    "\n",
    "\n",
    "def batch_iteration(pi, x, y, muref, nuref, eps, lam, partition, device='cuda'):\n",
    "    B = len(partition)\n",
    "    n_pixels = len(y)\n",
    "    max_cell_size = np.max(list(map(len, partition)))\n",
    "    Mu = torch.zeros((B, max_cell_size), device=device)\n",
    "    Nu = torch.zeros((B, n_pixels), device=device)\n",
    "    Muref = torch.zeros((B, max_cell_size), device=device)\n",
    "    Nuref = torch.zeros((B, n_pixels), device=device)\n",
    "    C = torch.zeros((B, max_cell_size, n_pixels), device=device)\n",
    "\n",
    "    t = torch.zeros((B, n_pixels), device=device)\n",
    "    # t = 100*torch.ones((B, n_pixels), device=device)\n",
    "    Nu_nJ = torch.zeros((B, n_pixels), device=device)\n",
    "\n",
    "    # Batch problems\n",
    "    for i, J in enumerate(partition):\n",
    "        piJ = pi[J, :]\n",
    "        xJ = x[J]\n",
    "        muJ = torch.sum(piJ, dim=1).ravel()\n",
    "        # nuJ = torch.sum(piJ, dim=0).ravel()\n",
    "        nu = torch.sum(pi, dim=0).ravel()\n",
    "        Mu[i, :len(J)] = muJ\n",
    "        Nu[i, :] = nu\n",
    "        Muref[i, :len(J)] = muref[0, J]\n",
    "        # Muref[i, :] = muref[0, J]  # same as above?\n",
    "        Nuref[i, :] = nuref[0, :]\n",
    "        C[i, :len(J), :] = (xJ.reshape(-1, 1) - y.reshape(1, -1))**2\n",
    "\n",
    "        nJ = list(set(range(n_pixels)) - set(J))\n",
    "        nu_nJ = torch.sum(pi[nJ, :], axis=0).ravel()\n",
    "        # print('nu_nJ: ', nu_nJ)\n",
    "        Nu_nJ[i, :] = nu_nJ\n",
    "\n",
    "    solver = SubdomainUnbalancedSinkhornTorch(\n",
    "        Mu, Nu, C, eps, muref=Muref, nuref=Nuref,\n",
    "        lam=lam, t=t, nu_nJ=Nu_nJ,\n",
    "        newton_iter=10, newton_tol=1e-10,\n",
    "    )\n",
    "\n",
    "    solver.iterate_until_max_error()\n",
    "    # Retrieve solution\n",
    "    pi_batch = solver.get_pi_dense()\n",
    "    pi_new = torch.zeros_like(pi)\n",
    "    for i, J in enumerate(partition):\n",
    "        pi_new[J, :] = pi_batch[i, :len(J), :]\n",
    "    return pi_new\n",
    "\n",
    "\n",
    "def main():\n",
    "    device = 'cuda'\n",
    "    M = N = 32\n",
    "    muref = torch.ones(1, M, device=device)\n",
    "    nuref = torch.ones(1, N, device=device)\n",
    "    muref = muref/torch.sum(muref, dim=1, keepdim=True)\n",
    "    nuref = nuref/torch.sum(nuref, dim=1, keepdim=True)\n",
    "    x = torch.linspace(0, 1, M, device=device)\n",
    "    y = torch.linspace(0, 1, N, device=device)\n",
    "\n",
    "    # Create partitions\n",
    "    partA = [[i, i+1] for i in range(0, N, 2)]\n",
    "    partB = [[0], *[[i, i+1] for i in range(1, N-2, 2)], [N-1]]\n",
    "\n",
    "    # Create initial transport plan\n",
    "    pi = torch.ones((M, N), device=device) / (M*N)  # prod initialization\n",
    "    # pi = torch.fliplr(torch.eye(M, device=device))/M\n",
    "\n",
    "    eps = 1/M**2\n",
    "    lam = 1000\n",
    "    n_iter = 20\n",
    "\n",
    "    cols = 5\n",
    "    rows = (n_iter-1)//cols + 1\n",
    "    fig, axs = plt.subplots(nrows=rows, ncols=cols, figsize=(2*cols, 2*rows))\n",
    "\n",
    "    for i, ax in tqdm(enumerate(axs.flatten())):\n",
    "        partition = partA if i % 2 == 0 else partB\n",
    "        pi = batch_iteration(\n",
    "            pi, x, y, muref, nuref, eps, lam, partition\n",
    "        )\n",
    "        ax.imshow(pi.cpu().detach().T, origin=\"lower\")\n",
    "\n",
    "    fig.tight_layout()\n",
    "    plt.show()\n",
    "\n",
    "\n",
    "if __name__ == '__main__':\n",
    "    # check()\n",
    "    main()"
   ]
  },
  {
   "cell_type": "code",
   "execution_count": 9,
   "metadata": {},
   "outputs": [
    {
     "data": {
      "application/vnd.jupyter.widget-view+json": {
       "model_id": "c2e2cb363d8a4b1caf7043ab3a5e3fe2",
       "version_major": 2,
       "version_minor": 0
      },
      "text/plain": [
       "0it [00:00, ?it/s]"
      ]
     },
     "metadata": {},
     "output_type": "display_data"
    },
    {
     "data": {
      "image/png": "[encoded data removed]",
      "text/plain": [
       "<Figure size 720x576 with 20 Axes>"
      ]
     },
     "metadata": {
      "needs_background": "light"
     },
     "output_type": "display_data"
    },
    {
     "name": "stdout",
     "output_type": "stream",
     "text": [
      "\n",
      "*** Profile printout saved to text file 'lprun_output'. \n"
     ]
    },
    {
     "name": "stdout",
     "output_type": "stream",
     "text": [
      "Timer unit: 1e-09 s\n",
      "\n",
      "Total time: 17.4174 s\n",
      "File: /scratch1/users/nguyen45/LogSinkhornGPU/examples/simulation.py\n",
      "Function: get_new_beta at line 55\n",
      "\n",
      "Line #      Hits         Time  Per Hit   % Time  Line Contents\n",
      "==============================================================\n",
      "    55                                               def get_new_beta(self):\n",
      "    56    105020 6480726562.0  61709.5     37.2          logKTu = softmin_torch(\n",
      "    57    315060 5089501556.0  16154.1     29.2              (self.alpha[:, :, None] - self.C) / self.eps\n",
      "    58    210040 1700524761.0   8096.2      9.8              + self.logmuref[:, :, None] + self.lognuref[:, None, :], dim=1\n",
      "    59                                                   )\n",
      "    60    105020 1100491348.0  10478.9      6.3          self.t = InnerNewtonCUDA(\n",
      "    61    105020   58032298.0    552.6      0.3              self.newton_iter, self.newton_tol, self.t, self.eps, self.lam, \n",
      "    62    105020   28510202.0    271.5      0.2              self.lognu, self.lognu_nJ, logKTu\n",
      "    63                                                   )\n",
      "    64    105020 2959596806.0  28181.3     17.0          return -self.lam*self.t - self.eps*logKTu"
     ]
    }
   ],
   "source": [
    "from simulation import main\n",
    "from simulation import SubdomainUnbalancedSinkhornTorch as sus\n",
    "\n",
    "%lprun -T lprun_output -f sus.get_new_beta main()"
   ]
  },
  {
   "cell_type": "code",
   "execution_count": 6,
   "metadata": {},
   "outputs": [],
   "source": [
    "print(open('lprun_output', 'r').read())"
   ]
  }
 ],
 "metadata": {
  "kernelspec": {
   "display_name": "Python 3",
   "language": "python",
   "name": "python3"
  },
  "language_info": {
   "codemirror_mode": {
    "name": "ipython",
    "version": 3
   },
   "file_extension": ".py",
   "mimetype": "text/x-python",
   "name": "python",
   "nbconvert_exporter": "python",
   "pygments_lexer": "ipython3",
   "version": "3.8.8"
  }
 },
 "nbformat": 4,
 "nbformat_minor": 4
}
