{
 "cells": [
  {
   "cell_type": "code",
   "execution_count": 1,
   "metadata": {},
   "outputs": [
    {
     "name": "stdout",
     "output_type": "stream",
     "text": [
      "which python3:   /opt/sw/rev/21.12/haswell/gcc-9.3.0/anaconda3-2021.05-e3srav/bin/python3\n",
      "torch version:   2.0.1+cu117\n",
      "torch file:      /usr/users/nguyen45/.local/lib/python3.8/site-packages/torch/__init__.py\n",
      "cuda available:  True\n",
      "device name:     Quadro RTX 5000\n",
      "LD_LIBRARY_PATH: /cm/local/apps/cuda/libs/current/lib64:/opt/sw/rev/21.12/haswell/gcc-9.3.0/cuda-11.5.1-twasys/lib64:/opt/sw/rev/21.12/haswell/gcc-9.3.0/anaconda3-2021.05-e3srav/lib\n",
      "\n",
      "\n"
     ]
    }
   ],
   "source": [
    "import os\n",
    "import sys\n",
    "import torch\n",
    "\n",
    "def check():\n",
    "    print(f'which python3:   {sys.executable}')\n",
    "    print(f'torch version:   {torch.__version__}')\n",
    "    print(f'torch file:      {torch.__file__}')\n",
    "    print(f'cuda available:  {torch.cuda.is_available()}')\n",
    "    if torch.cuda.is_available():\n",
    "        for i in range(torch.cuda.device_count()):\n",
    "            print('device name:    ', torch.cuda.get_device_name(i))\n",
    "    print(f'LD_LIBRARY_PATH: {os.environ[\"LD_LIBRARY_PATH\"]}\\n')\n",
    "    print('')\n",
    "\n",
    "check()"
   ]
  },
  {
   "cell_type": "code",
   "execution_count": null,
   "metadata": {},
   "outputs": [],
   "source": []
  }
 ],
 "metadata": {
  "kernelspec": {
   "display_name": "Python 3",
   "language": "python",
   "name": "python3"
  },
  "language_info": {
   "codemirror_mode": {
    "name": "ipython",
    "version": 3
   },
   "file_extension": ".py",
   "mimetype": "text/x-python",
   "name": "python",
   "nbconvert_exporter": "python",
   "pygments_lexer": "ipython3",
   "version": "3.8.8"
  },
  "orig_nbformat": 4
 },
 "nbformat": 4,
 "nbformat_minor": 2
}
